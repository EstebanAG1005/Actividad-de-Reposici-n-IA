{
 "cells": [
  {
   "attachments": {},
   "cell_type": "markdown",
   "metadata": {},
   "source": [
    "## Task 1 - Regresión logística polinómica\n",
    "\n",
    "### Instrucciones: \n",
    "\n",
    "Usted usará Python a través de un Jupyter Notebook para llevar a cabo este ejercicio. Recuerde\n",
    "utilizar comentarios para describir lo que está haciendo en cada parte del proceso. Estará usando el juego de datos\n",
    "proporcionado dentro del portal. Al finalizar recuerde subir al portal un link a su repositorio en el que se pueda correr\n",
    "su notebook, usando https://mybinder.org/.\n",
    "El juego de datos proporcionado es parte de la plataforma Kaggle, dentro del cual se muestran condiciones físicas\n",
    "y contextuales para más de 4000 pacientes de enfermedades cardíacas. El dataset relaciona a cada paciente con\n",
    "una etiqueta (1 = tuvo un paro cardíaco, 0 = no tuvo paro cardíaco).\n",
    "\n",
    "Abajo una breve descripción de las variables incluidas:\n",
    "\n",
    "● Demographic:\n",
    "\n",
    "○ Sex: male or female(Nominal)\n",
    "\n",
    "○ Age: Age of the patient;(Continuous - Although the recorded ages have been truncated to whole\n",
    "numbers, the concept of age is continuous)\n",
    "\n",
    "● Behavioral:\n",
    "\n",
    "○ Current Smoker: whether or not the patient is a current smoker (Nominal)\n",
    "\n",
    "○ Cigs Per Day: the number of cigarettes that the person smoked on average in one day.(can be\n",
    "considered continuous as one can have any number of cigarettes, even half a cigarette.)\n",
    "\n",
    "○ Medical( history)\n",
    "\n",
    "○ BP Meds: whether or not the patient was on blood pressure medication (Nominal)\n",
    "\n",
    "○ Prevalent Stroke: whether or not the patient had previously had a stroke (Nominal)\n",
    "\n",
    "○ Prevalent Hyp: whether or not the patient was hypertensive (Nominal)\n",
    "\n",
    "○ Diabetes: whether or not the patient had diabetes (Nominal)\n",
    "\n",
    "\n",
    "● Medical(current):\n",
    "\n",
    "○ Tot Chol: total cholesterol level (Continuous)\n",
    "\n",
    "○ Sys BP: systolic blood pressure (Continuous)\n",
    "\n",
    "○ Dia BP: diastolic blood pressure (Continuous)\n",
    "\n",
    "○ BMI: Body Mass Index (Continuous)\n",
    "\n",
    "○ Heart Rate: heart rate (Continuous - In medical research, variables such as heart rate though in fact\n",
    "discrete, yet are considered continuous because of large number of possible values.)\n",
    "\n",
    "○ Glucose: glucose level (Continuous)\n",
    "Para este ejercicio se le pide que proporcione un modelo de regresión logística polinomial que prediga fielmente si\n",
    "un paciente sufrirá de un paro cardíaco.\n"
   ]
  },
  {
   "attachments": {},
   "cell_type": "markdown",
   "metadata": {},
   "source": [
    "### Task 1.1: Leer el archivo CSV proporcionado y almacenarlo en un np.array"
   ]
  },
  {
   "cell_type": "code",
   "execution_count": null,
   "metadata": {},
   "outputs": [
    {
     "ename": "",
     "evalue": "",
     "output_type": "error",
     "traceback": [
      "\u001b[1;31mRunning cells with 'c:\\Users\\EstebanAldana\\AppData\\Local\\Microsoft\\WindowsApps\\python3.10.exe' requires the ipykernel package.\n",
      "\u001b[1;31mRun the following command to install 'ipykernel' into the Python environment. \n",
      "\u001b[1;31mCommand: 'c:/Users/EstebanAldana/AppData/Local/Microsoft/WindowsApps/python3.10.exe -m pip install ipykernel -U --user --force-reinstall'"
     ]
    }
   ],
   "source": [
    "import pandas as pd\n",
    "import numpy as np\n",
    "\n",
    "# Leer el archivo CSV\n",
    "data = pd.read_csv(\"datos_pacientes.csv\")\n",
    "\n",
    "# Almacenar los datos en un np.array\n",
    "data_array = np.array(data)\n"
   ]
  },
  {
   "attachments": {},
   "cell_type": "markdown",
   "metadata": {},
   "source": [
    "### Task 1.2: Ajustar un modelo logístico polinomial"
   ]
  },
  {
   "cell_type": "code",
   "execution_count": null,
   "metadata": {},
   "outputs": [
    {
     "ename": "",
     "evalue": "",
     "output_type": "error",
     "traceback": [
      "\u001b[1;31mRunning cells with 'c:\\Users\\EstebanAldana\\AppData\\Local\\Microsoft\\WindowsApps\\python3.10.exe' requires the ipykernel package.\n",
      "\u001b[1;31mRun the following command to install 'ipykernel' into the Python environment. \n",
      "\u001b[1;31mCommand: 'c:/Users/EstebanAldana/AppData/Local/Microsoft/WindowsApps/python3.10.exe -m pip install ipykernel -U --user --force-reinstall'"
     ]
    }
   ],
   "source": [
    "from sklearn.model_selection import train_test_split\n",
    "from sklearn.preprocessing import PolynomialFeatures\n",
    "from sklearn.linear_model import LogisticRegression\n",
    "\n",
    "# Seleccionar las variables independientes y la variable dependiente\n",
    "X = data_array[:, :-1]\n",
    "y = data_array[:, -1]\n",
    "\n",
    "# Dividir los datos en entrenamiento y prueba\n",
    "X_train, X_test, y_train, y_test = train_test_split(X, y, test_size=0.2, random_state=42)\n",
    "\n",
    "# Ajustar un modelo logístico polinomial\n",
    "poly = PolynomialFeatures(degree=2) # Cambiar el grado según se necesite\n",
    "X_train_poly = poly.fit_transform(X_train)\n",
    "X_test_poly = poly.transform(X_test)\n",
    "\n",
    "logreg = LogisticRegression(solver=\"lbfgs\", max_iter=10000)\n",
    "logreg.fit(X_train_poly, y_train)\n"
   ]
  },
  {
   "attachments": {},
   "cell_type": "markdown",
   "metadata": {},
   "source": [
    "### Task 1.3: Utilizar la implementación vectorial del algoritmo de regresión logística"
   ]
  },
  {
   "cell_type": "code",
   "execution_count": null,
   "metadata": {},
   "outputs": [
    {
     "ename": "",
     "evalue": "",
     "output_type": "error",
     "traceback": [
      "\u001b[1;31mRunning cells with 'c:\\Users\\EstebanAldana\\AppData\\Local\\Microsoft\\WindowsApps\\python3.10.exe' requires the ipykernel package.\n",
      "\u001b[1;31mRun the following command to install 'ipykernel' into the Python environment. \n",
      "\u001b[1;31mCommand: 'c:/Users/EstebanAldana/AppData/Local/Microsoft/WindowsApps/python3.10.exe -m pip install ipykernel -U --user --force-reinstall'"
     ]
    }
   ],
   "source": [
    "def sigmoid(z):\n",
    "    return 1 / (1 + np.exp(-z))\n",
    "\n",
    "def gradient_descent(X, y, learning_rate, iterations):\n",
    "    n_samples, n_features = X.shape\n",
    "    weights = np.zeros(n_features)\n",
    "    for _ in range(iterations):\n",
    "        linear_model = np.dot(X, weights)\n",
    "        y_predicted = sigmoid(linear_model)\n",
    "        gradient = np.dot(X.T, (y_predicted - y)) / n_samples\n",
    "        weights -= learning_rate * gradient\n",
    "    return weights\n",
    "\n",
    "learning_rate = 0.1\n",
    "iterations = 1000\n",
    "\n",
    "weights = gradient_descent(X_train_poly, y_train, learning_rate, iterations)\n",
    "y_predicted = sigmoid(np.dot(X_test_poly, weights)) > 0.5\n"
   ]
  },
  {
   "attachments": {},
   "cell_type": "markdown",
   "metadata": {},
   "source": [
    "### Metricas de desempeño"
   ]
  },
  {
   "cell_type": "code",
   "execution_count": null,
   "metadata": {},
   "outputs": [
    {
     "ename": "",
     "evalue": "",
     "output_type": "error",
     "traceback": [
      "\u001b[1;31mRunning cells with 'c:\\Users\\EstebanAldana\\AppData\\Local\\Microsoft\\WindowsApps\\python3.10.exe' requires the ipykernel package.\n",
      "\u001b[1;31mRun the following command to install 'ipykernel' into the Python environment. \n",
      "\u001b[1;31mCommand: 'c:/Users/EstebanAldana/AppData/Local/Microsoft/WindowsApps/python3.10.exe -m pip install ipykernel -U --user --force-reinstall'"
     ]
    }
   ],
   "source": [
    "from sklearn.metrics import accuracy_score, precision_score, recall_score, f1_score, roc_auc_score, confusion_matrix\n",
    "\n",
    "# Calcular métricas de desempeño\n",
    "accuracy = accuracy_score(y_test, y_predicted)\n",
    "precision = precision_score(y_test, y_predicted)\n",
    "recall = recall_score(y_test, y_predicted)\n",
    "f1 = f1_score(y_test, y_predicted)\n",
    "roc_auc = roc_auc_score(y_test, y_predicted)\n",
    "conf_mat = confusion_matrix(y_test, y_predicted)\n",
    "\n",
    "print(\"Métricas de desempeño:\")\n",
    "print(f\"Accuracy: {accuracy:.2f}\")\n",
    "print(f\"Precision: {precision:.2f}\")\n",
    "print(f\"Recall: {recall:.2f}\")\n",
    "print(f\"F1 Score: {f1:.2f}\")\n",
    "print(f\"ROC AUC Score: {roc_auc:.2f}\")\n",
    "print(\"Confusion Matrix:\")\n",
    "print(conf_mat)\n"
   ]
  },
  {
   "attachments": {},
   "cell_type": "markdown",
   "metadata": {},
   "source": [
    "### Task 1.4: Usar cross-validation para determinar el grado del polinomio"
   ]
  },
  {
   "cell_type": "code",
   "execution_count": null,
   "metadata": {},
   "outputs": [
    {
     "ename": "",
     "evalue": "",
     "output_type": "error",
     "traceback": [
      "\u001b[1;31mRunning cells with 'c:\\Users\\EstebanAldana\\AppData\\Local\\Microsoft\\WindowsApps\\python3.10.exe' requires the ipykernel package.\n",
      "\u001b[1;31mRun the following command to install 'ipykernel' into the Python environment. \n",
      "\u001b[1;31mCommand: 'c:/Users/EstebanAldana/AppData/Local/Microsoft/WindowsApps/python3.10.exe -m pip install ipykernel -U --user --force-reinstall'"
     ]
    }
   ],
   "source": [
    "from sklearn.model_selection import KFold\n",
    "from sklearn.metrics import accuracy_score\n",
    "\n",
    "def find_best_degree(X, y, degrees, learning_rate, iterations):\n",
    "    best_degree = 0\n",
    "    best_accuracy = 0\n",
    "    for degree in degrees:\n",
    "        poly = PolynomialFeatures(degree=degree)\n",
    "        X_poly = poly.fit_transform(X)\n",
    "        kf = KFold(n_splits=5)\n",
    "        accuracies = []\n",
    "        for train_index, test_index in kf.split(X_poly):\n",
    "            X_train, X_test = X_poly[train_index], X_poly[test_index]\n",
    "            y_train, y_test = y[train_index], y[test_index]\n",
    "            weights = gradient_descent(X_train, y_train, learning_rate, iterations)\n",
    "            y_predicted = sigmoid(np.dot(X_test, weights)) > 0.5\n",
    "            accuracy = accuracy_score(y_test, y_predicted)\n",
    "            accuracies.append(accuracy)\n",
    "        mean_accuracy = np.mean(accuracies)\n",
    "        if mean_accuracy > best_accuracy:\n",
    "            best_accuracy = mean_accuracy\n",
    "            best_degree = degree\n",
    "    return best_degree\n",
    "\n",
    "degrees = range(1, 6)\n",
    "best_degree = find_best_degree(X, y, degrees, learning_rate, iterations)\n",
    "print(\"El mejor grado del polinomio es:\", best_degree)\n"
   ]
  },
  {
   "attachments": {},
   "cell_type": "markdown",
   "metadata": {},
   "source": [
    "### Task 1.5: Análisis"
   ]
  }
 ],
 "metadata": {
  "kernelspec": {
   "display_name": "Python 3",
   "language": "python",
   "name": "python3"
  },
  "language_info": {
   "name": "python",
   "version": "3.10.10"
  },
  "orig_nbformat": 4
 },
 "nbformat": 4,
 "nbformat_minor": 2
}
